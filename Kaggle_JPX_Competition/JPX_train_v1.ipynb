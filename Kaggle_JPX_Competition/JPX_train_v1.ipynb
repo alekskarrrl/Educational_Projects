{
  "nbformat": 4,
  "nbformat_minor": 0,
  "metadata": {
    "colab": {
      "name": "JPX_train_v1.ipynb",
      "provenance": [],
      "collapsed_sections": [],
      "private_outputs": true,
      "mount_file_id": "1nXEscnpxsxz91VUAm90uRDc0nfcWk4ps",
      "authorship_tag": "ABX9TyObHTQ31cUMfVorYt2cjckg"
    },
    "kernelspec": {
      "name": "python3",
      "display_name": "Python 3"
    },
    "language_info": {
      "name": "python"
    },
    "gpuClass": "standard"
  },
  "cells": [
    {
      "cell_type": "code",
      "execution_count": null,
      "metadata": {
        "id": "YhYbJ2GHCrYX"
      },
      "outputs": [],
      "source": [
        "import numpy as np\n",
        "import pandas as pd\n",
        "import os\n",
        "from pathlib import Path\n",
        "from google.colab import drive\n",
        "\n",
        "pd.set_option('display.max_columns', 1000)\n",
        "pd.set_option('display.max_rows', 1000)\n",
        "\n",
        "import warnings\n",
        "warnings.filterwarnings(\"ignore\") # `do not disturbe` mode"
      ]
    },
    {
      "cell_type": "code",
      "source": [
        "\n",
        "drive.mount('/Drive_content')"
      ],
      "metadata": {
        "id": "myD0OVpHOguB"
      },
      "execution_count": null,
      "outputs": []
    },
    {
      "cell_type": "code",
      "source": [
        "TRAIN_PATH = \"/Drive_content/MyDrive/Colab Notebooks/JPX_data/train_files/\"\n",
        "FINANCIALS = \"financials.csv\"\n",
        "OPTIONS = \"options.csv\"\n",
        "STOCK_PRICES = \"stock_prices.csv\"\n",
        "SEC_STOCK_PRICES = \"secondary_stock_prices.csv\"\n",
        "TRADES = \"trades.csv\""
      ],
      "metadata": {
        "id": "NE8RHHzaHUKQ"
      },
      "execution_count": null,
      "outputs": []
    },
    {
      "cell_type": "code",
      "source": [
        "# file_name = TRAIN_PATH + FINANCIALS\n",
        "df_financials = pd.read_csv(TRAIN_PATH + FINANCIALS, parse_dates=[\"Date\"])\n",
        "df_options = pd.read_csv(TRAIN_PATH + OPTIONS)\n",
        "df_stock_prices = pd.read_csv(TRAIN_PATH + STOCK_PRICES, parse_dates=[\"Date\"])\n",
        "df_sec_stock_prices = pd.read_csv(TRAIN_PATH + SEC_STOCK_PRICES)\n",
        "df_trades = pd.read_csv(TRAIN_PATH + TRADES)"
      ],
      "metadata": {
        "id": "Xyy962n-IWFw"
      },
      "execution_count": null,
      "outputs": []
    },
    {
      "cell_type": "code",
      "source": [
        "df_financials.head()"
      ],
      "metadata": {
        "id": "WcP4rSL4LcTy"
      },
      "execution_count": null,
      "outputs": []
    },
    {
      "cell_type": "code",
      "source": [
        "df_financials.info()"
      ],
      "metadata": {
        "id": "XmGYjbGpms1d"
      },
      "execution_count": null,
      "outputs": []
    },
    {
      "cell_type": "code",
      "source": [
        "df_options.head()"
      ],
      "metadata": {
        "id": "5aMDeYk0PPAW"
      },
      "execution_count": null,
      "outputs": []
    },
    {
      "cell_type": "code",
      "source": [
        "df_stock_prices.head()"
      ],
      "metadata": {
        "id": "xnF8IHoDiHtN"
      },
      "execution_count": null,
      "outputs": []
    },
    {
      "cell_type": "code",
      "source": [
        "df_stock_prices.info()"
      ],
      "metadata": {
        "id": "VLUZ9rGHz3DC"
      },
      "execution_count": null,
      "outputs": []
    },
    {
      "cell_type": "code",
      "source": [
        "for col in df_stock_prices.columns:\n",
        "  missing_values = df_stock_prices[col].isnull().sum()\n",
        "  print(f\"In column {col} {missing_values} values is missing\")"
      ],
      "metadata": {
        "id": "uKPmwMAW0t8u"
      },
      "execution_count": null,
      "outputs": []
    },
    {
      "cell_type": "code",
      "source": [
        "df_stock_prices[\"Date\"][df_stock_prices[\"Open\"].isnull()].value_counts()"
      ],
      "metadata": {
        "id": "ZgHTcA0Z1seP"
      },
      "execution_count": null,
      "outputs": []
    },
    {
      "cell_type": "markdown",
      "source": [
        "1988 stocks not traded 2020-10-01\n",
        "Всего нул значений по столбцу \"Open\" 7608"
      ],
      "metadata": {
        "id": "TuBwOkekw9CF"
      }
    },
    {
      "cell_type": "code",
      "source": [
        "df_stock_prices[\"SecuritiesCode\"].nunique()"
      ],
      "metadata": {
        "id": "RbsaiHdxxLxI"
      },
      "execution_count": null,
      "outputs": []
    },
    {
      "cell_type": "code",
      "source": [
        "df_stock_prices[\"Volume\"][df_stock_prices[\"Open\"].isnull()].sum()"
      ],
      "metadata": {
        "id": "5hopHwYB2-Dn"
      },
      "execution_count": null,
      "outputs": []
    },
    {
      "cell_type": "markdown",
      "source": [
        "Бумаги не торговались в эти даты.\n",
        "Не буду ни на что заменять пропущенные значения, просто дропну их / \n",
        "Оказалось, это плохая идея, заменю пропуски предыдущими значениями по каждой бумаге в отдельности"
      ],
      "metadata": {
        "id": "GaZDgq2TAfvW"
      }
    },
    {
      "cell_type": "code",
      "source": [
        "#df_stock_prices.dropna(subset=[\"Open\",\"High\",\"Low\",\"Close\"], inplace=True)"
      ],
      "metadata": {
        "id": "44ueZRe76qbg"
      },
      "execution_count": null,
      "outputs": []
    },
    {
      "cell_type": "code",
      "source": [
        "df_stock_prices[[\"SecuritiesCode\", \"Open\",\"High\",\"Low\",\"Close\"]][df_stock_prices['SecuritiesCode'] == 1301]"
      ],
      "metadata": {
        "id": "-abwk40okr-8"
      },
      "execution_count": null,
      "outputs": []
    },
    {
      "cell_type": "code",
      "source": [
        "df_stock_prices = df_stock_prices.sort_values(by=\"Date\", ascending=False)"
      ],
      "metadata": {
        "id": "FxHt020rlyrV"
      },
      "execution_count": null,
      "outputs": []
    },
    {
      "cell_type": "code",
      "source": [
        "def stock_prices_prep(data):\n",
        "    df = pd.DataFrame()\n",
        "    df_temp = pd.DataFrame()\n",
        "    for code in data['SecuritiesCode'].unique():\n",
        "        df_temp = data[data['SecuritiesCode'] == code].sort_values(by=\"Date\",  ascending=False)\n",
        "\n",
        "        df_temp[[\"High\", \"Low\", \"Close\", \"Open\"]] = df_temp[[\"High\", \"Low\", \"Close\", \"Open\"]].fillna(method=\"bfill\")\n",
        "        df_temp[[\"High\", \"Low\", \"Close\", \"Open\"]] = df_temp[[\"High\", \"Low\", \"Close\", \"Open\"]].fillna(0)\n",
        "        \n",
        "        df = df.append(df_temp)\n",
        "\n",
        "    data = df.sort_values(by=\"Date\")\n",
        "\n",
        "\n",
        "    data[\"Adj_Close\"] = data[\"Close\"] * data[\"AdjustmentFactor\"]\n",
        "    data['ExpectedDividend'].fillna(0, inplace=True)\n",
        "  # data.drop(\"AdjustmentFactor\", axis=1, inplace=True)\n",
        "\n",
        "    return data"
      ],
      "metadata": {
        "id": "L-TPOmUB1sSf"
      },
      "execution_count": null,
      "outputs": []
    },
    {
      "cell_type": "code",
      "source": [
        "df_stock_prices = stock_prices_prep(df_stock_prices)"
      ],
      "metadata": {
        "id": "TlqHkx1biLZI"
      },
      "execution_count": null,
      "outputs": []
    },
    {
      "cell_type": "code",
      "source": [
        "df_stock_prices[df_stock_prices['Close'].isna()]"
      ],
      "metadata": {
        "id": "ZH351H185rbB"
      },
      "execution_count": null,
      "outputs": []
    },
    {
      "cell_type": "code",
      "source": [
        "df_stock_prices[\"Day_change_pct\"] = (df_stock_prices[\"Close\"] / df_stock_prices[\"Open\"] - 1) * 100\n"
      ],
      "metadata": {
        "id": "5dwM0Z01iQKs"
      },
      "execution_count": null,
      "outputs": []
    },
    {
      "cell_type": "code",
      "source": [
        "df_stock_prices.head(10)"
      ],
      "metadata": {
        "id": "8viCbwUniYaT"
      },
      "execution_count": null,
      "outputs": []
    },
    {
      "cell_type": "code",
      "source": [
        "df_stock_prices.assign(Is_outlier = 0)"
      ],
      "metadata": {
        "id": "FufAPVdtFC-W"
      },
      "execution_count": null,
      "outputs": []
    },
    {
      "cell_type": "code",
      "source": [
        "def find_outliers(data, col):\n",
        "  Q1 = data[col].quantile(0.25)\n",
        "  Q3 = data[col].quantile(0.75)\n",
        "  IQR = Q3 - Q1\n",
        "  lower = Q1 - 1.5 * IQR\n",
        "  upper = Q3 + 1.5 * IQR\n",
        "\n",
        "  print(f\"Lower is {lower}, upper is {upper}, IQR is {IQR}\")\n",
        "\n",
        "  data[\"Is_outlier\"] = np.where(data[col] < lower, 1, 0)\n",
        "  data[\"Is_outlier\"] = np.where(data[col] > upper, 1, 0)\n",
        "  \n",
        "\n",
        "  return data\n"
      ],
      "metadata": {
        "id": "_wWM4bQRDkRi"
      },
      "execution_count": null,
      "outputs": []
    },
    {
      "cell_type": "code",
      "source": [
        "find_outliers(df_stock_prices, \"Day_change_pct\")"
      ],
      "metadata": {
        "id": "4p6kcz2uHpbN"
      },
      "execution_count": null,
      "outputs": []
    },
    {
      "cell_type": "code",
      "source": [
        "df_stock_prices[df_stock_prices[\"Is_outlier\"] == 1]"
      ],
      "metadata": {
        "id": "uCFrWhxqHyA3"
      },
      "execution_count": null,
      "outputs": []
    },
    {
      "cell_type": "code",
      "source": [
        "# !pip install plotly"
      ],
      "metadata": {
        "id": "jcNjEPCkJziR"
      },
      "execution_count": null,
      "outputs": []
    },
    {
      "cell_type": "code",
      "source": [
        "import plotly\n",
        "import plotly.graph_objs as go"
      ],
      "metadata": {
        "id": "RZnRyo0FR4ed"
      },
      "execution_count": null,
      "outputs": []
    },
    {
      "cell_type": "code",
      "source": [
        "df_stock_1813 = df_stock_prices[df_stock_prices[\"SecuritiesCode\"] == 1813]\n",
        "df_stock_1879 = df_stock_prices[df_stock_prices[\"SecuritiesCode\"] == 1879]\n",
        "df_stock_3540 = df_stock_prices[df_stock_prices[\"SecuritiesCode\"] == 3540]\n",
        "df_stock_1813.head()"
      ],
      "metadata": {
        "id": "PSm2HfQE8Qkq"
      },
      "execution_count": null,
      "outputs": []
    },
    {
      "cell_type": "code",
      "source": [
        "df_stock_1813.set_index('Date', inplace=True)\n",
        "df_stock_1879.set_index('Date', inplace=True)\n",
        "df_stock_3540.set_index('Date', inplace=True)\n",
        "df_stock_1879.head()"
      ],
      "metadata": {
        "id": "-_Zpw3Pm8c7R"
      },
      "execution_count": null,
      "outputs": []
    },
    {
      "cell_type": "code",
      "source": [
        "def stock_by_SecuritiesCode(data, code):\n",
        "    df = data[data['SecuritiesCode'] == code]\n",
        "    df.set_index('Date', inplace=True)\n",
        "    return df"
      ],
      "metadata": {
        "id": "qQxzGilINcCo"
      },
      "execution_count": null,
      "outputs": []
    },
    {
      "cell_type": "code",
      "source": [
        "stock_by_SecuritiesCode(df_stock_prices, 1813)\n"
      ],
      "metadata": {
        "id": "wVtLPGwHNdOU"
      },
      "execution_count": null,
      "outputs": []
    },
    {
      "cell_type": "code",
      "source": [
        "from plotly.subplots import make_subplots\n",
        "# fig = go.Figure() # for combined plot (1 area - 2 lines)\n",
        "fig = make_subplots(rows=2, cols=1)\n",
        "fig.add_trace(go.Scatter(x=df_stock_1813.index, \n",
        "                         y=df_stock_1813[\"Day_change_pct\"], \n",
        "                         name='SecuritiesCode=1813',\n",
        "                         mode='lines+markers',\n",
        "                         marker=dict(color=df_stock_1813[\"Is_outlier\"], colorscale='Inferno')),\n",
        "                         1, 1)\n",
        "fig.add_trace(go.Scatter(x=df_stock_1879.index, \n",
        "                         y=df_stock_1879[\"Day_change_pct\"], \n",
        "                         name='SecuritiesCode=1879',\n",
        "                         mode='lines+markers',\n",
        "                         marker=dict(color=df_stock_1879[\"Is_outlier\"], colorscale='Inferno')),\n",
        "                         2, 1)\n",
        "fig.update_yaxes(zeroline=True, zerolinewidth=2, zerolinecolor='LightPink')\n",
        "fig.update_xaxes(zeroline=True, zerolinewidth=2, zerolinecolor='#008000')\n",
        "fig.update_layout(legend_orientation=\"h\",\n",
        "                  margin=dict(l=0, r=0, t=30, b=0),\n",
        "                  title=\"Stock prices\",\n",
        "                  hovermode=\"x\")\n",
        "fig.update_traces(hoverinfo=\"all\", hovertemplate=\"Date: %{x}<br>Day Change: %{y}\")\n",
        "fig.update_yaxes(title=\"Price Day Change\", col=1, row=1)\n",
        "fig.update_yaxes(title=\"Price Day Change\", col=1, row=2)\n",
        "fig.update_xaxes(title=\"Date\", col=1, row=2)\n",
        "\n",
        "fig.show()"
      ],
      "metadata": {
        "id": "wkwcKabNTEhQ"
      },
      "execution_count": null,
      "outputs": []
    },
    {
      "cell_type": "markdown",
      "source": [
        "**Sklearn Time Series** ⏰\n",
        "\n",
        "\n",
        "---\n",
        "\n"
      ],
      "metadata": {
        "id": "EKEhJ12GF4ou"
      }
    },
    {
      "cell_type": "code",
      "source": [
        "from sklearn.metrics import (mean_absolute_error, mean_squared_error,\n",
        "                             mean_squared_log_error, median_absolute_error,\n",
        "                             r2_score)"
      ],
      "metadata": {
        "id": "KaYtDi68tGr3"
      },
      "execution_count": null,
      "outputs": []
    },
    {
      "cell_type": "code",
      "source": [
        "import warnings\n",
        "warnings.filterwarnings(\"ignore\") # `do not disturbe` mode"
      ],
      "metadata": {
        "id": "7FE7FYKCZmRj"
      },
      "execution_count": null,
      "outputs": []
    },
    {
      "cell_type": "markdown",
      "source": [
        "**Moving average**"
      ],
      "metadata": {
        "id": "-zmxu7g1JYM3"
      }
    },
    {
      "cell_type": "code",
      "source": [
        "def moving_average(series, n):\n",
        "  \"\"\"\n",
        "  Calculate average of last n observations\n",
        "  \"\"\"\n",
        "  return np.average(series[-n: ])"
      ],
      "metadata": {
        "id": "9IbsfAj5F380"
      },
      "execution_count": null,
      "outputs": []
    },
    {
      "cell_type": "code",
      "source": [
        "moving_average(stock_by_SecuritiesCode(df_stock_prices, 1879)[\"Adj_Close\"], 24)"
      ],
      "metadata": {
        "id": "qd65O_aIF340"
      },
      "execution_count": null,
      "outputs": []
    },
    {
      "cell_type": "code",
      "source": [
        "def plot_price_volume(data, code):\n",
        "    df_ploted = stock_by_SecuritiesCode(data, code)\n",
        "    fig = make_subplots(rows=2, cols=1, shared_xaxes=True, vertical_spacing=0.02, row_heights=[400, 200])\n",
        "    fig.add_trace(go.Scatter(x=df_ploted.index, \n",
        "                         y=df_ploted[\"Adj_Close\"], \n",
        "                         name=f'SecuritiesCode={code}',\n",
        "                         mode='lines+markers',\n",
        "                         marker=dict(color=df_ploted[\"Is_outlier\"], colorscale='Inferno')),\n",
        "                         1, 1)\n",
        "    fig.add_trace(go.Bar(x=df_ploted.index, \n",
        "                         y=df_ploted[\"Volume\"], \n",
        "                         name=f'SecuritiesCode={code}'),\n",
        "                         2, 1)\n",
        "    fig.update_yaxes(zeroline=True, zerolinewidth=2, zerolinecolor='LightPink')\n",
        "    fig.update_xaxes(zeroline=True, zerolinewidth=2, zerolinecolor='#008000')\n",
        "    fig.update_layout(legend_orientation=\"h\",\n",
        "                  margin=dict(l=0, r=0, t=30, b=0),\n",
        "                  title=\"Stock prices\",\n",
        "                  hovermode=\"x\")\n",
        "    fig.update_traces(hoverinfo=\"all\", hovertemplate=\"Date: %{x}<br>Adj Adjusted Close Price: %{y}\", col=1, row=1)\n",
        "    fig.update_traces(hoverinfo=\"all\", hovertemplate=\"Date: %{x}<br>Volume: %{y}\", col=1, row=2)\n",
        "    fig.update_yaxes(title=\"Adj Close Price\", col=1, row=1)\n",
        "    fig.update_yaxes(title=\"Volume\", col=1, row=2)\n",
        "    fig.update_xaxes(title=\"Date\", col=1, row=2)\n",
        "\n",
        "    fig.show()"
      ],
      "metadata": {
        "id": "qAX4bQdAPd6J"
      },
      "execution_count": null,
      "outputs": []
    },
    {
      "cell_type": "code",
      "source": [
        "plot_price_volume(df_stock_prices, 3540)"
      ],
      "metadata": {
        "id": "HU-QxyaJQXgT"
      },
      "execution_count": null,
      "outputs": []
    },
    {
      "cell_type": "code",
      "source": [
        "def plotMovingAverage(\n",
        "    series, window, plot_intervals=False, scale=1.96, plot_anomalies=False\n",
        "):\n",
        "\n",
        "    \"\"\"\n",
        "        series - pd.Series\n",
        "        window - rolling window size\n",
        "        plot_intervals - show confidence intervals\n",
        "        plot_anomalies - show anomalies\n",
        "\n",
        "    \"\"\"\n",
        "    rolling_mean = series.rolling(window=window).mean()\n",
        "    \n",
        "    fig = go.Figure()\n",
        "    fig.add_trace(go.Scatter(x=series.index, \n",
        "                         y=rolling_mean, \n",
        "                         name='Rolling mean trend',\n",
        "                         mode='lines',\n",
        "                         line=dict(color='#A4133C', width=3)))\n",
        "\n",
        "    fig.update_layout(legend_orientation=\"h\",\n",
        "                  margin=dict(l=0, r=0, t=30, b=0),\n",
        "                  title=f\"Moving average\\n window size = {window}\"\n",
        "                  )\n",
        "    fig.update_traces(hoverinfo=\"all\", hovertemplate=\"Date: %{x}<br>Moving AVG Adj Close: %{y}\")\n",
        "    fig.update_yaxes(title=\"Moving AVG Adj Close\")\n",
        "    fig.update_xaxes(title=\"Date\")\n",
        "    \n",
        "\n",
        "    # Plot confidence intervals for smoothed values\n",
        "    if plot_intervals:\n",
        "        mae = mean_absolute_error(series[window:], rolling_mean[window:])\n",
        "        deviation = np.std(series[window:] - rolling_mean[window:])\n",
        "        lower_bond = rolling_mean - (mae + scale * deviation)\n",
        "        upper_bond = rolling_mean + (mae + scale * deviation)\n",
        "        fig.add_trace(go.Scatter(x=series.index, \n",
        "                         y=upper_bond, \n",
        "                         name='Upper Bond / Lower Bond',\n",
        "                         mode='lines',\n",
        "                         line=dict(color='#f29559', dash='dash')))\n",
        "        fig.add_trace(go.Scatter(x=series.index, \n",
        "                         y=lower_bond,\n",
        "                         name='Upper Bond / Lower Bond', \n",
        "                         mode='lines',\n",
        "                         line=dict(color='#f29559', dash='dash')))\n",
        "\n",
        "        # Having the intervals, find abnormal values\n",
        "        if plot_anomalies:\n",
        "            \n",
        "            anomalies = pd.Series(data=None, index=series.index)\n",
        "            anomalies[series < lower_bond] = series[series < lower_bond]\n",
        "            anomalies[series > upper_bond] = series[series > upper_bond]\n",
        "            fig.add_trace(go.Scatter(x=anomalies.index, \n",
        "                         y=anomalies,\n",
        "                         mode='markers',\n",
        "                         name='Anomalies',\n",
        "                         marker=dict(color='#eb5e28', size=20, line=dict(color='#9a031e', width=2))))\n",
        "            \n",
        "    fig.add_trace(go.Scatter(x=series.index[window:], \n",
        "                         y=series[window:], \n",
        "                         name='Actual values',\n",
        "                         mode='lines+markers',\n",
        "                         marker=dict(color='rgba(13, 59, 102, .8)', size=7)\n",
        "                         ))\n",
        "    \n",
        "    # fig.update_xaxes(rangeslider_visible=True)\n",
        "    fig.update_xaxes(\n",
        "    rangebreaks=[\n",
        "        dict(bounds=[\"sat\", \"mon\"]) #hide weekends\n",
        "        # dict(values=[\"2015-12-25\", \"2016-01-01\"])  # hide Christmas and New Year's\n",
        "    ]\n",
        "    )\n",
        "    fig.show()"
      ],
      "metadata": {
        "id": "9l4mU7t_F3yU"
      },
      "execution_count": null,
      "outputs": []
    },
    {
      "cell_type": "code",
      "source": [
        "df = df_stock_1813\n",
        "df.info()"
      ],
      "metadata": {
        "id": "kCnpb3Nv1Tud"
      },
      "execution_count": null,
      "outputs": []
    },
    {
      "cell_type": "markdown",
      "source": [
        "В 'Day_change_pct' нет пустых значений, тк мы дропнули выше строки с пустыми значениями в столбцах Open\tHigh\tLow\tClose / значения не удалены, а заменены"
      ],
      "metadata": {
        "id": "xbxfiaFk_YF_"
      }
    },
    {
      "cell_type": "code",
      "source": [
        "# plotMovingAverage(df_stock_1813[\"Adj_Close\"], 30, plot_intervals=True, plot_anomalies=True)\n",
        "# stock_by_SecuritiesCode(df_stock_prices, 1813)\n",
        "plotMovingAverage(stock_by_SecuritiesCode(df_stock_prices, 1813)[\"Adj_Close\"], 30, plot_intervals=True, plot_anomalies=True)"
      ],
      "metadata": {
        "id": "8Pr-bMQKF3uK"
      },
      "execution_count": null,
      "outputs": []
    },
    {
      "cell_type": "code",
      "source": [
        "plotMovingAverage(stock_by_SecuritiesCode(df_stock_prices, 1813)[\"Day_change_pct\"], 30, plot_intervals=True, plot_anomalies=True)"
      ],
      "metadata": {
        "id": "gGktxmr-F3nJ"
      },
      "execution_count": null,
      "outputs": []
    },
    {
      "cell_type": "markdown",
      "source": [
        "Посмотрим на разброс значений в \"AdjustmentFactor\""
      ],
      "metadata": {
        "id": "ez-5oxWwVv7m"
      }
    },
    {
      "cell_type": "code",
      "source": [
        "fig = go.Figure()\n",
        "fig.add_trace(go.Histogram(x=df_stock_prices[\"AdjustmentFactor\"][df_stock_prices[\"SecuritiesCode\"] == 7638], nbinsx=20))\n",
        "\n",
        "# fig.update_yaxes(zeroline=True, zerolinewidth=2, zerolinecolor='LightPink')\n",
        "# fig.update_xaxes(zeroline=True, zerolinewidth=2, zerolinecolor='#008000')\n",
        "# fig.update_layout(legend_orientation=\"h\",\n",
        "#                   margin=dict(l=0, r=0, t=30, b=0),\n",
        "#                   title=\"\")\n",
        "# fig.update_yaxes(title=\" \")\n",
        "# fig.update_xaxes(title=\"Date\")\n",
        "\n",
        "fig.show()"
      ],
      "metadata": {
        "id": "O7HXKKFMtM_U"
      },
      "execution_count": null,
      "outputs": []
    },
    {
      "cell_type": "code",
      "source": [
        "df_stock_prices[df_stock_prices[\"AdjustmentFactor\"] >= 3].sort_values(by=['AdjustmentFactor'], ascending=False)"
      ],
      "metadata": {
        "id": "U0Fsx2LctM47"
      },
      "execution_count": null,
      "outputs": []
    },
    {
      "cell_type": "code",
      "source": [
        "fig = go.Figure()\n",
        "fig.add_trace(go.Box(y=df_stock_prices[\"AdjustmentFactor\"]))\n",
        "\n",
        "\n",
        "\n",
        "fig.show()"
      ],
      "metadata": {
        "id": "MllKDwnUF3kc"
      },
      "execution_count": null,
      "outputs": []
    },
    {
      "cell_type": "markdown",
      "source": [
        "Посмотрим, что это за компании и что там происходило с ценой"
      ],
      "metadata": {
        "id": "HdzAfwbWMIgv"
      }
    },
    {
      "cell_type": "code",
      "source": [
        "new_path = \"/Drive_content/MyDrive/Colab Notebooks/JPX_data/\"\n",
        "file_name = \"stock_list.csv\"\n",
        "df_stock_list = pd.read_csv(new_path + file_name)\n",
        "df_stock_list.head()"
      ],
      "metadata": {
        "id": "W-xJh0TJF3hJ"
      },
      "execution_count": null,
      "outputs": []
    },
    {
      "cell_type": "code",
      "source": [
        "df_stock_list[df_stock_list[\"SecuritiesCode\"] == 7638]"
      ],
      "metadata": {
        "id": "S4Wj5HanMHH5"
      },
      "execution_count": null,
      "outputs": []
    },
    {
      "cell_type": "code",
      "source": [
        "fig = go.Figure()\n",
        "fig.add_trace(go.Scatter(x=stock_by_SecuritiesCode(df_stock_prices, 7638).index, \n",
        "                         y=stock_by_SecuritiesCode(df_stock_prices, 7638)[\"Volume\"],\n",
        "                         name='SecuritiesCode=7638',\n",
        "                         mode='lines+markers'))\n",
        "\n",
        "fig.update_yaxes(zeroline=True, zerolinewidth=2, zerolinecolor='LightPink')\n",
        "fig.update_xaxes(zeroline=True, zerolinewidth=2, zerolinecolor='#008000')\n",
        "fig.update_layout(legend_orientation=\"h\",\n",
        "                  margin=dict(l=0, r=0, t=30, b=0),\n",
        "                  title=\"Stock prices\")\n",
        "fig.update_yaxes(title=\" \")\n",
        "fig.update_xaxes(title=\"Date\")\n",
        "fig.show()"
      ],
      "metadata": {
        "id": "vGlNgsOWXNzX"
      },
      "execution_count": null,
      "outputs": []
    },
    {
      "cell_type": "markdown",
      "source": [
        "Если AdjustmentFactor не равен 1, то домножить на него все более ранние значения цены (а объем разделить). AdjustmentFactor не учитывает дивиденды, поэтому на двд нужна доп корректировка - до экс-дивидендной даты цена закрытия  должна быть домножена на понижающий коэффициент, равный (цена закрытия перед экс-двд датой - ДВД) / цена закрытия перед экс-двд датой."
      ],
      "metadata": {
        "id": "dBC_LkWE-wlm"
      }
    },
    {
      "cell_type": "code",
      "source": [
        "stock_by_SecuritiesCode(df_stock_prices, 7638).tail(10)"
      ],
      "metadata": {
        "id": "AL_jbCYVAiL2"
      },
      "execution_count": null,
      "outputs": []
    },
    {
      "cell_type": "markdown",
      "source": [
        "Корректировка на ДВД на примере этой бумаги. ДВД ожидаемый указан в дате 26 марта 2021. В спецификации сказано, что двд указывается тут за 2 рабочих дня до экс-двд даты. Получаем, что экс-двд дата = 30 марта. По предыдущей цене закрытия и размеру двд рассчитываем корректирующий коэф. В данном случае (1168 - 50) / 1168 = 0,957192 (округлить)"
      ],
      "metadata": {
        "id": "MnDgKEmeBvkK"
      }
    },
    {
      "cell_type": "code",
      "source": [
        "df_stock_prices = df_stock_prices.assign(Adj = 1)"
      ],
      "metadata": {
        "id": "0Td-deiUZ3kN"
      },
      "execution_count": null,
      "outputs": []
    },
    {
      "cell_type": "code",
      "source": [
        "df_stock_prices = df_stock_prices.sort_values(by='Date', ascending=False)\n",
        "df_stock_prices.head()"
      ],
      "metadata": {
        "id": "ZVh5VbRNakHY"
      },
      "execution_count": null,
      "outputs": []
    },
    {
      "cell_type": "code",
      "source": [
        "def calc_main_adjusting_factor(sorted_data):\n",
        "    df = pd.DataFrame()\n",
        "    df_temp = pd.DataFrame()\n",
        "    for code in sorted_data['SecuritiesCode'].unique():\n",
        "        df_temp = sorted_data[sorted_data['SecuritiesCode'] == code]\n",
        "\n",
        "        df_temp['Adj'] = df_temp['AdjustmentFactor'].cumprod()\n",
        "\n",
        "        df = df.append(df_temp)\n",
        "\n",
        "    df = df.sort_values(by='Date', ascending=False)\n",
        "\n",
        "    return df\n",
        "\n",
        "\n"
      ],
      "metadata": {
        "id": "8mO6JJqROBXL"
      },
      "execution_count": null,
      "outputs": []
    },
    {
      "cell_type": "code",
      "source": [
        "df_stock_prices = calc_main_adjusting_factor(df_stock_prices)"
      ],
      "metadata": {
        "id": "cY5SwoKsQPKc"
      },
      "execution_count": null,
      "outputs": []
    },
    {
      "cell_type": "markdown",
      "source": [
        "Пересчитаем столбец Adj_Close"
      ],
      "metadata": {
        "id": "rAOJ5rXzpd5s"
      }
    },
    {
      "cell_type": "code",
      "source": [
        "df_stock_prices['Adj_Close'] = df_stock_prices['Close'] * df_stock_prices['Adj']"
      ],
      "metadata": {
        "id": "M-YN0SOecDK6"
      },
      "execution_count": null,
      "outputs": []
    },
    {
      "cell_type": "code",
      "source": [
        "df_stock_prices = df_stock_prices.assign(Volume_Adj = 0)"
      ],
      "metadata": {
        "id": "0mzCRrBr3Q7M"
      },
      "execution_count": null,
      "outputs": []
    },
    {
      "cell_type": "code",
      "source": [
        "df_stock_prices['Volume_Adj'] = df_stock_prices['Volume'] / df_stock_prices['Adj']\n"
      ],
      "metadata": {
        "id": "yBbiydnfOhD-"
      },
      "execution_count": null,
      "outputs": []
    },
    {
      "cell_type": "code",
      "source": [
        ""
      ],
      "metadata": {
        "id": "lQquz4xns1la"
      },
      "execution_count": null,
      "outputs": []
    },
    {
      "cell_type": "markdown",
      "source": [
        "\n",
        "Посмотрим теперь на график Volume_Adj"
      ],
      "metadata": {
        "id": "e5ixKFSJq5E_"
      }
    },
    {
      "cell_type": "code",
      "source": [
        "fig = go.Figure()\n",
        "fig.add_trace(go.Scatter(x=stock_by_SecuritiesCode(df_stock_prices, 7638).index, \n",
        "                         y=stock_by_SecuritiesCode(df_stock_prices, 7638)[\"Volume_Adj\"],\n",
        "                         name='SecuritiesCode=1813',\n",
        "                         mode='lines+markers'))\n",
        "\n",
        "fig.update_yaxes(zeroline=True, zerolinewidth=2, zerolinecolor='LightPink')\n",
        "fig.update_xaxes(zeroline=True, zerolinewidth=2, zerolinecolor='#008000')\n",
        "fig.update_layout(legend_orientation=\"h\",\n",
        "                  margin=dict(l=0, r=0, t=30, b=0),\n",
        "                  title=\"Stock prices\")\n",
        "fig.update_yaxes(title=\" \")\n",
        "fig.update_xaxes(title=\"Date\")\n",
        "fig.show()"
      ],
      "metadata": {
        "id": "15qvOAyAOhD_"
      },
      "execution_count": null,
      "outputs": []
    },
    {
      "cell_type": "code",
      "source": [
        ""
      ],
      "metadata": {
        "id": "3-yEqPvJinWm"
      },
      "execution_count": null,
      "outputs": []
    },
    {
      "cell_type": "code",
      "source": [
        "df_stock_1813 = df_stock_prices[df_stock_prices[\"SecuritiesCode\"] == 1813]\n",
        "df_stock_1879 = df_stock_prices[df_stock_prices[\"SecuritiesCode\"] == 1879]\n",
        "df_stock_7638 = df_stock_prices[df_stock_prices[\"SecuritiesCode\"] == 7638]\n"
      ],
      "metadata": {
        "id": "pyUTY1TNin4z"
      },
      "execution_count": null,
      "outputs": []
    },
    {
      "cell_type": "code",
      "source": [
        "df_stock_1813.set_index('Date', inplace=True)\n",
        "df_stock_1879.set_index('Date', inplace=True)\n",
        "df_stock_7638.set_index('Date', inplace=True)"
      ],
      "metadata": {
        "id": "VvB3XIW3in4z"
      },
      "execution_count": null,
      "outputs": []
    },
    {
      "cell_type": "code",
      "source": [
        ""
      ],
      "metadata": {
        "id": "D7TnbGerinEb"
      },
      "execution_count": null,
      "outputs": []
    },
    {
      "cell_type": "code",
      "source": [
        "plotMovingAverage(stock_by_SecuritiesCode(df_stock_prices, 7638)[\"Adj_Close\"], 30, plot_intervals=True, plot_anomalies=True)"
      ],
      "metadata": {
        "id": "atVOFrQNWw3y"
      },
      "execution_count": null,
      "outputs": []
    },
    {
      "cell_type": "code",
      "source": [
        "plotMovingAverage(stock_by_SecuritiesCode(df_stock_prices, 1813)[\"Adj_Close\"], 30, plot_intervals=True, plot_anomalies=True)"
      ],
      "metadata": {
        "id": "27Qk13QxXm7z"
      },
      "execution_count": null,
      "outputs": []
    },
    {
      "cell_type": "code",
      "source": [
        "plotMovingAverage(stock_by_SecuritiesCode(df_stock_prices, 1879)[\"Adj_Close\"], 30, plot_intervals=True, plot_anomalies=True)"
      ],
      "metadata": {
        "id": "FLgeJwCSVfZt"
      },
      "execution_count": null,
      "outputs": []
    },
    {
      "cell_type": "markdown",
      "source": [
        "Осталось сделать поправку на дивиденды"
      ],
      "metadata": {
        "id": "8zHCL_8Pko8a"
      }
    },
    {
      "cell_type": "code",
      "source": [
        "\n",
        "def calc_dvd_adjusting_factor_v1(sorted_data, sec_list, shifted_col):\n",
        "    sorted_data = sorted_data.assign(Close_shifted=0)\n",
        "    sorted_data = sorted_data.assign(Adj_dvd=1)\n",
        "    sorted_data = sorted_data.assign(Adj_dvd_cum=1)\n",
        "    for code in sorted_data[sec_list].unique():\n",
        "        sorted_data[\"Close_shifted\"][sorted_data[sec_list] == code] = sorted_data[shifted_col][sorted_data[sec_list] == code].shift(periods=1, fill_value=0)\n",
        "        sorted_data['Adj_dvd'][sorted_data[sec_list] == code] = (sorted_data[\"Close_shifted\"][sorted_data[sec_list] == code]  - sorted_data['ExpectedDividend'][sorted_data[sec_list] == code]) / sorted_data['Close_shifted'][sorted_data[sec_list] == code]\n",
        "        sorted_data['Adj_dvd'][sorted_data[sec_list] == code].fillna(1, inplace=True)\n",
        "        sorted_data['Adj_dvd_cum'][sorted_data[sec_list] == code] = sorted_data['Adj_dvd'][sorted_data[sec_list] == code].cumprod()\n",
        "        \n",
        "          # датафрейм отсортирован по дате по убыванию\n",
        "          # находим ExpectedDividend > 0, запоминаем двд\n",
        "          # сдвигаемся на одну строку выше и берем цену Close. Рассчитываем коэф-т для корректировки, пишем коэф-т в столбец 'Adj_dvd' в той же строке. / делаем сдвиг столбца 'Close' вниз на 1 \n",
        "          # \n",
        "        \n",
        "    return sorted_data\n",
        "\n"
      ],
      "metadata": {
        "id": "Ez6XJdZ8OBT4"
      },
      "execution_count": null,
      "outputs": []
    },
    {
      "cell_type": "code",
      "source": [
        "df_stock_prices_copy = df_stock_prices"
      ],
      "metadata": {
        "id": "beXBSEHaVBVw"
      },
      "execution_count": null,
      "outputs": []
    },
    {
      "cell_type": "code",
      "source": [
        "# %%time\n",
        "# calc_dvd_adjusting_factor_v1(df_stock_prices, \"SecuritiesCode\", \"Close\")"
      ],
      "metadata": {
        "id": "6_spHxqokwRD"
      },
      "execution_count": null,
      "outputs": []
    },
    {
      "cell_type": "code",
      "source": [
        "\n",
        "def calc_dvd_adjusting_factor_v2(sorted_data, sec_list, shifted_col):\n",
        "    sorted_data = sorted_data.assign(Close_shifted=0)\n",
        "    sorted_data = sorted_data.assign(Adj_dvd=1)\n",
        "    sorted_data = sorted_data.assign(Adj_dvd_cum=1)\n",
        "    df = pd.DataFrame()\n",
        "    df_temp = pd.DataFrame()\n",
        "    for code in sorted_data[sec_list].unique():\n",
        "        df_temp = sorted_data[sorted_data[sec_list] == code]\n",
        "        df_temp[\"Close_shifted\"] = df_temp[shifted_col].shift(periods=1, fill_value=0)\n",
        "        df_temp['Adj_dvd'] = (df_temp[\"Close_shifted\"] - df_temp['ExpectedDividend']) / df_temp['Close_shifted']\n",
        "        df_temp['Adj_dvd'].fillna(1, inplace=True)\n",
        "        df_temp['Adj_dvd_cum'] = df_temp['Adj_dvd'].cumprod()\n",
        "\n",
        "        df = df.append(df_temp)\n",
        "          # датафрейм отсортирован по дате по убыванию\n",
        "          # находим ExpectedDividend > 0, запоминаем двд\n",
        "          # сдвигаемся на одну строку выше и берем цену Close. Рассчитываем коэф-т для корректировки, пишем коэф-т в столбец 'Adj_dvd' в той же строке. / делаем сдвиг столбца 'Close' вниз на 1 \n",
        "    \n",
        "\n",
        "\n",
        "\n",
        "    return df\n",
        "\n"
      ],
      "metadata": {
        "id": "oPbgyqQwkwNs"
      },
      "execution_count": null,
      "outputs": []
    },
    {
      "cell_type": "code",
      "source": [
        "%%time\n",
        "df_stock_prices_Adj = calc_dvd_adjusting_factor_v2(df_stock_prices_copy, \"SecuritiesCode\", \"Close\")\n",
        "# df_stock_prices_Adj"
      ],
      "metadata": {
        "id": "R1JVf0f2kvrn"
      },
      "execution_count": null,
      "outputs": []
    },
    {
      "cell_type": "markdown",
      "source": [
        "calc_dvd_adjusting_factor_v2 работает в 2 раза быстрее, чем calc_dvd_adjusting_factor_v1"
      ],
      "metadata": {
        "id": "g-DhnjCdYjAL"
      }
    },
    {
      "cell_type": "code",
      "source": [
        "df_stock_prices_Adj['Adj_Close'] = df_stock_prices_Adj['Close'] * df_stock_prices_Adj['Adj'] * df_stock_prices_Adj['Adj_dvd_cum']"
      ],
      "metadata": {
        "id": "_F7vYfCS_L41"
      },
      "execution_count": null,
      "outputs": []
    },
    {
      "cell_type": "code",
      "source": [
        "df_stock_prices_Adj = df_stock_prices_Adj.sort_values(by='Date')"
      ],
      "metadata": {
        "id": "j_QudJHTkvoX"
      },
      "execution_count": null,
      "outputs": []
    },
    {
      "cell_type": "code",
      "source": [
        "stock_by_SecuritiesCode(df_stock_prices_Adj, 9083).head(40)"
      ],
      "metadata": {
        "id": "gEQO7Z_vkvlh"
      },
      "execution_count": null,
      "outputs": []
    },
    {
      "cell_type": "code",
      "source": [
        ""
      ],
      "metadata": {
        "id": "3vhqKzwtkvd7"
      },
      "execution_count": null,
      "outputs": []
    },
    {
      "cell_type": "code",
      "source": [
        ""
      ],
      "metadata": {
        "id": "5GaoxYDKMGsl"
      },
      "execution_count": null,
      "outputs": []
    },
    {
      "cell_type": "markdown",
      "source": [
        "**Getting rid of non-stationarity and building SARIMA**\n",
        "\n",
        "\n",
        "---\n",
        "\n"
      ],
      "metadata": {
        "id": "Hdg92jk8tAEs"
      }
    },
    {
      "cell_type": "code",
      "source": [
        ""
      ],
      "metadata": {
        "id": "cNkbUuJttLtc"
      },
      "execution_count": null,
      "outputs": []
    },
    {
      "cell_type": "code",
      "source": [
        ""
      ],
      "metadata": {
        "id": "y3MeixaftLhY"
      },
      "execution_count": null,
      "outputs": []
    },
    {
      "cell_type": "code",
      "source": [
        "# def tsplot(y, lags=None, figsize=(12, 7), style=\"bmh\"):\n",
        "#     \"\"\"\n",
        "#         Plot time series, its ACF and PACF, calculate Dickey–Fuller test\n",
        "\n",
        "#         y - timeseries\n",
        "#         lags - how many lags to include in ACF, PACF calculation\n",
        "#     \"\"\"\n",
        "#     if not isinstance(y, pd.Series):\n",
        "#         y = pd.Series(y)\n",
        "\n",
        "#     with plt.style.context(style):\n",
        "#         fig = plt.figure(figsize=figsize)\n",
        "#         layout = (2, 2)\n",
        "#         ts_ax = plt.subplot2grid(layout, (0, 0), colspan=2)\n",
        "#         acf_ax = plt.subplot2grid(layout, (1, 0))\n",
        "#         pacf_ax = plt.subplot2grid(layout, (1, 1))\n",
        "\n",
        "#         ts_ax.plot(y)\n",
        "#         p_value = sm.tsa.stattools.adfuller(y)[1]\n",
        "#         ts_ax.set_title(\n",
        "#             \"Time Series Analysis Plots\\n Dickey-Fuller: p={0:.5f}\".format(p_value)\n",
        "#         )\n",
        "#         smt.graphics.plot_acf(y, lags=lags, ax=acf_ax)\n",
        "#         smt.graphics.plot_pacf(y, lags=lags, ax=pacf_ax)\n",
        "#         plt.tight_layout()"
      ],
      "metadata": {
        "id": "h4zFlq9HF3dT"
      },
      "execution_count": null,
      "outputs": []
    },
    {
      "cell_type": "code",
      "source": [
        ""
      ],
      "metadata": {
        "id": "jaggWRFYF3Z6"
      },
      "execution_count": null,
      "outputs": []
    },
    {
      "cell_type": "code",
      "source": [
        ""
      ],
      "metadata": {
        "id": "hsuPzM4YF3Wa"
      },
      "execution_count": null,
      "outputs": []
    },
    {
      "cell_type": "code",
      "source": [
        ""
      ],
      "metadata": {
        "id": "MBmAr3XlF3MB"
      },
      "execution_count": null,
      "outputs": []
    },
    {
      "cell_type": "code",
      "source": [
        ""
      ],
      "metadata": {
        "id": "GmbZ1HO5F3IZ"
      },
      "execution_count": null,
      "outputs": []
    },
    {
      "cell_type": "code",
      "source": [
        ""
      ],
      "metadata": {
        "id": "3SuuCC4pF3EP"
      },
      "execution_count": null,
      "outputs": []
    },
    {
      "cell_type": "code",
      "source": [
        ""
      ],
      "metadata": {
        "id": "ZUIGF3OUF3A5"
      },
      "execution_count": null,
      "outputs": []
    },
    {
      "cell_type": "code",
      "source": [
        ""
      ],
      "metadata": {
        "id": "4b2T2yQsF29N"
      },
      "execution_count": null,
      "outputs": []
    },
    {
      "cell_type": "code",
      "source": [
        ""
      ],
      "metadata": {
        "id": "bPnMxP-ZF25M"
      },
      "execution_count": null,
      "outputs": []
    },
    {
      "cell_type": "code",
      "source": [
        ""
      ],
      "metadata": {
        "id": "snQ50wzTF21m"
      },
      "execution_count": null,
      "outputs": []
    },
    {
      "cell_type": "code",
      "source": [
        ""
      ],
      "metadata": {
        "id": "SKNCyga_F2sY"
      },
      "execution_count": null,
      "outputs": []
    },
    {
      "cell_type": "code",
      "source": [
        ""
      ],
      "metadata": {
        "id": "C_bs1aNtF2ke"
      },
      "execution_count": null,
      "outputs": []
    },
    {
      "cell_type": "code",
      "source": [
        ""
      ],
      "metadata": {
        "id": "7IZGUmsmF2bq"
      },
      "execution_count": null,
      "outputs": []
    },
    {
      "cell_type": "code",
      "source": [
        ""
      ],
      "metadata": {
        "id": "wiLSB_PoF2TP"
      },
      "execution_count": null,
      "outputs": []
    },
    {
      "cell_type": "code",
      "source": [
        ""
      ],
      "metadata": {
        "id": "7pi3ouEKF2Kv"
      },
      "execution_count": null,
      "outputs": []
    },
    {
      "cell_type": "code",
      "source": [
        ""
      ],
      "metadata": {
        "id": "2vlbKACLF1_q"
      },
      "execution_count": null,
      "outputs": []
    }
  ]
}